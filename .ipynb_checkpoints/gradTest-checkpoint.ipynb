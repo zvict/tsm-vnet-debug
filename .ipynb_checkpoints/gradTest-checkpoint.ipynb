{
 "cells": [
  {
   "cell_type": "code",
   "execution_count": 1,
   "metadata": {},
   "outputs": [],
   "source": [
    "import torch"
   ]
  },
  {
   "cell_type": "code",
   "execution_count": 2,
   "metadata": {},
   "outputs": [],
   "source": [
    "from ops.v_models import VNet, v_TSN"
   ]
  },
  {
   "cell_type": "code",
   "execution_count": 3,
   "metadata": {},
   "outputs": [],
   "source": [
    "from ops.models import TSN"
   ]
  },
  {
   "cell_type": "code",
   "execution_count": 4,
   "metadata": {},
   "outputs": [
    {
     "ename": "NameError",
     "evalue": "name 'num_class' is not defined",
     "output_type": "error",
     "traceback": [
      "\u001b[1;31m---------------------------------------------------------------------------\u001b[0m",
      "\u001b[1;31mNameError\u001b[0m                                 Traceback (most recent call last)",
      "\u001b[1;32m<ipython-input-4-28f70f7fbc8d>\u001b[0m in \u001b[0;36m<module>\u001b[1;34m\u001b[0m\n\u001b[1;32m----> 1\u001b[1;33m model = TSN(num_class, args.num_segments, args.modality,\n\u001b[0m\u001b[0;32m      2\u001b[0m             \u001b[0mbase_model\u001b[0m\u001b[1;33m=\u001b[0m\u001b[0margs\u001b[0m\u001b[1;33m.\u001b[0m\u001b[0march\u001b[0m\u001b[1;33m,\u001b[0m\u001b[1;33m\u001b[0m\u001b[1;33m\u001b[0m\u001b[0m\n\u001b[0;32m      3\u001b[0m             \u001b[0mconsensus_type\u001b[0m\u001b[1;33m=\u001b[0m\u001b[0margs\u001b[0m\u001b[1;33m.\u001b[0m\u001b[0mconsensus_type\u001b[0m\u001b[1;33m,\u001b[0m\u001b[1;33m\u001b[0m\u001b[1;33m\u001b[0m\u001b[0m\n\u001b[0;32m      4\u001b[0m             \u001b[0mdropout\u001b[0m\u001b[1;33m=\u001b[0m\u001b[0margs\u001b[0m\u001b[1;33m.\u001b[0m\u001b[0mdropout\u001b[0m\u001b[1;33m,\u001b[0m\u001b[1;33m\u001b[0m\u001b[1;33m\u001b[0m\u001b[0m\n\u001b[0;32m      5\u001b[0m             \u001b[0mimg_feature_dim\u001b[0m\u001b[1;33m=\u001b[0m\u001b[0margs\u001b[0m\u001b[1;33m.\u001b[0m\u001b[0mimg_feature_dim\u001b[0m\u001b[1;33m,\u001b[0m\u001b[1;33m\u001b[0m\u001b[1;33m\u001b[0m\u001b[0m\n",
      "\u001b[1;31mNameError\u001b[0m: name 'num_class' is not defined"
     ]
    }
   ],
   "source": [
    "model = TSN(num_class, 3, RGB,\n",
    "            base_model=\"resnet50\",\n",
    "            consensus_type=\"avg\",\n",
    "            dropout=0.5,\n",
    "            img_feature_dim=256,\n",
    "            partial_bn=True,\n",
    "            is_shift=True, shift_div=8, shift_place=\"blockres\",\n",
    "            fc_lr5=not (args.tune_from and args.dataset in args.tune_from),\n",
    "            temporal_pool=args.temporal_pool,\n",
    "            non_local=args.non_local)\n",
    "v_model = v_TSN(num_class, args.num_segments, args.modality,\n",
    "              base_model=args.arch,\n",
    "              consensus_type=args.consensus_type,\n",
    "              dropout=args.dropout,\n",
    "              img_feature_dim=args.img_feature_dim,\n",
    "              partial_bn=not args.no_partialbn,\n",
    "              pretrain=args.pretrain,\n",
    "              is_shift=args.shift, shift_div=args.shift_div, shift_place=args.shift_place,\n",
    "              fc_lr5=not (\n",
    "                  args.tune_from and args.dataset in args.tune_from),\n",
    "              temporal_pool=args.temporal_pool,\n",
    "              non_local=args.non_local)\n",
    "vnet = VNet(1, 100, 1)"
   ]
  },
  {
   "cell_type": "code",
   "execution_count": null,
   "metadata": {},
   "outputs": [],
   "source": []
  }
 ],
 "metadata": {
  "kernelspec": {
   "display_name": "Python 3",
   "language": "python",
   "name": "python3"
  },
  "language_info": {
   "codemirror_mode": {
    "name": "ipython",
    "version": 3
   },
   "file_extension": ".py",
   "mimetype": "text/x-python",
   "name": "python",
   "nbconvert_exporter": "python",
   "pygments_lexer": "ipython3",
   "version": "3.7.6"
  }
 },
 "nbformat": 4,
 "nbformat_minor": 4
}
